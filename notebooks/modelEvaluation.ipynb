{
 "cells": [
  {
   "cell_type": "markdown",
   "metadata": {
    "id": "R4t4EcWftewG"
   },
   "source": [
    "# Initialisation and Model Loading"
   ]
  },
  {
   "cell_type": "code",
   "execution_count": 1,
   "metadata": {
    "id": "03S9I0RNY44i"
   },
   "outputs": [],
   "source": [
    "import gc\n",
    "import time\n",
    "import os\n",
    "import random\n",
    "import re\n",
    "import numpy as np\n",
    "import pandas as pd\n",
    "import matplotlib.pyplot as plt\n",
    "from datasets import load_dataset, concatenate_datasets\n",
    "import torch\n",
    "from torch.utils.data import Subset\n",
    "# from torch.utils.tensorboard import SummaryWriter\n",
    "import wandb\n",
    "from transformers.integrations import WandbCallback\n",
    "from transformers import (\n",
    "        AutoTokenizer, pipeline,\n",
    "        AutoModelForCausalLM,\n",
    "        DataCollatorWithPadding,\n",
    "        DataCollatorForSeq2Seq,\n",
    "        AutoModelForSpeechSeq2Seq,\n",
    "        BartForConditionalGeneration,\n",
    "        TrainingArguments,\n",
    "        Seq2SeqTrainingArguments,\n",
    "        Trainer,\n",
    "        BitsAndBytesConfig,\n",
    "        EarlyStoppingCallback,\n",
    "        ProgressCallback,\n",
    "    GenerationConfig\n",
    ")\n",
    "from sentence_transformers import SentenceTransformer, util\n",
    "from huggingface_hub import login\n",
    "from peft import prepare_model_for_kbit_training\n",
    "from peft import LoraConfig, get_peft_model\n",
    "from trl import SFTTrainer\n",
    "import evaluate\n",
    "from tqdm.auto import tqdm\n",
    "import warnings\n",
    "from IPython.display import display, clear_output\n",
    "\n",
    "warnings.filterwarnings(\"ignore\")"
   ]
  },
  {
   "cell_type": "code",
   "execution_count": 2,
   "metadata": {
    "id": "UA-cstFQa4s2"
   },
   "outputs": [],
   "source": [
    "seed = 42\n",
    "np.random.seed(seed)"
   ]
  },
  {
   "cell_type": "code",
   "execution_count": 3,
   "metadata": {
    "colab": {
     "base_uri": "https://localhost:8080/",
     "height": 438,
     "referenced_widgets": [
      "77adf02bed424f7c8d6669737cc10f01",
      "fb7ee9fcc49f4e3aba9cf70dc6286dac",
      "c75b6da952274fad9986dd35b6ea9d76",
      "e58a3f6d2d3f4fc9bebab66dd9f3ad54",
      "81c4ef66406f4069bf9ce257eef5ee4c",
      "c188fdfcb06d4446a36dad010daabf87",
      "b7924875913849c9b9136a205aa343e1",
      "3ae9d599f2624d25bbb4eb6b790733a2",
      "b918c1fbfa01408a82c1f766b1852ce2",
      "ef952aea4c8e4c77ad8e2b55cb8e4d53",
      "671f9c57f8f74cdaa1ad60f30339c242",
      "93c1a674c8344646a8d2880bc9c077c4",
      "59c043d4318c43e590cee4159dd647b0",
      "a0c0b7a972d44b75a049068d80f4d1c5",
      "f4ed0d1795314f13b3b6c8ffabb50012",
      "27740b38e5f84482bf3c1d10e1db0f61",
      "373b15aefa2940f390acb5b58ce2af38",
      "b732b04dda66486195ad6ed9d342bd39",
      "2fc4bd7203f84de8a0052cea77323aa8",
      "a9dc03a2e6db4c85b63966e5b32de9ee",
      "6e3f2c2d3dfa46788e534e1059463d93",
      "fb70edb9e151433081351b6f4848009d",
      "8d7882b80c32447da82dd1f2931c3329",
      "82aebf4c3ed94c408b757cea9b4102dc",
      "ca2e1ee4b3a243bfa55cb767b29d65a7",
      "e95f0323999d44a4970ceab2c5b40158",
      "d40948c5fb074d2abc2547977f403328",
      "55e30e418af24c7c8a9d8ce39793744f",
      "7c0398a8a1484ecf8850111ae87b3e66",
      "084c441f92c44ee89e0242769ad2fb92",
      "1930bd12cee047d8b8b86729c3508141",
      "28aa897984924c4e8a29418f174f112c",
      "8074f75a450942f3a7b7dea4c0305fa9",
      "0c4cd5e1415c4598973f7d246193e407",
      "4be6fe8f4f344ac19f97367adec8ecd4",
      "3ad567c574914991b7120bb7882f982c",
      "bca2c564144348e58f4bba5304782b76",
      "4380cb7679f14557ad002c728674863c",
      "a7e1657a063c4c40836a5e82be54d6de",
      "8a4ad37a04e44645828953f88d0d367a",
      "30247976674c4016af43217884cc695e",
      "a01a0cb6265e469088c8ca343e3c26d9",
      "4fb7ae3ac78c4bd18fda81c0e56267ec",
      "8bdbb9dfd1c94378a46a7dd881f842fa",
      "64674231f9cc4929999f1342b3961a2e",
      "7c6bff4be8d24d93bdf404be9b0ba4cf",
      "8bc9ac4ab35943d7811ce127e643339d",
      "d520d8d84aa444ab9b1122dd2c375dfd",
      "d69d7c4d898d49f2b7a049ee5f7dd934",
      "2d344fe00f464be18ade51ed8d1f0c76",
      "2e6cb0f337cb49bf89e5d6a3cabe1517",
      "b66b8ccec33c49ba84dbf31d64f8ce2f",
      "e036a6e15aab42339ae4a26ad97cd95c",
      "de982f4f6557419d9924b82ccf810ba7",
      "b4c175b79bc84472b3de3c612c645e78",
      "5b59e926ee1c4c0daf179f7fbc297414",
      "b34a0ce3ea35493eb223be3a50598f7a",
      "ea261420d135410ca8a44c355865863b",
      "c4050d40e22248cfaf44d5ed2ca5732f",
      "fabcecf935a845fbbb06f75014e5a1c6",
      "40db3b3a91e3497ca6d4f11e88585a96",
      "9c9482efcb064a11951c4d8529162a84",
      "f9f34a1e8daa45e69ed15349e655bd3e",
      "1e186ebb71274634a68c59db3eaae1ca",
      "f055bba7ffe940ec8e9304e11d5451f5",
      "68874d7d9f8047d5add35b886ba1e37e",
      "ead8ba6c8a2e4b75b4b3e650a2f648be",
      "3624888639cf4b01aace1ee7a7cfabe1",
      "b4b441e7a28346dd9b5ca740ee5af663",
      "cbbf4eee9b004457a4dc8690728d5849",
      "d184da6a93854f2abc3d50d454eb34b6",
      "faad89ce8d9949a9bab0788d327bf3b7",
      "86c571060a8347e88c327b27024c708b",
      "6d1e19027ac443988d6c59a6eac767b8",
      "bb7a8149837e4c518004de49a5bddb19",
      "ccf02cb0a18348e78efd232cc2441fc9",
      "46c87906e0e746f79b49750bab78c7ac",
      "52683de87f2e4436812dc5fab6f65fd5",
      "c12db02c685b42b7aa50e58017f3abb1",
      "11c98116ff15456ab274bccdbf540a69",
      "b022d36199b74a31ac3e064b4b20f315",
      "810241106eed45df94876e580ec7622e",
      "52edd70c934b49be80d6ad09d1d8d2f1",
      "a1d49828ec914b67ab3f96a08e0282fe",
      "bbaa37006fb645ee9393b65615a9c684",
      "d7d6a87717344feabb513e9238c1ba86",
      "4d80a4577e2f4bf48f0b85e84aeb5524",
      "4eada76c664847759f0afe7f4eac90d0",
      "f62cab51864a49119397ab1dd07c4326",
      "ad8914aed643452da9717a2e95208143",
      "71025b8d4def439b874b24cb81689c5b",
      "b4e72b7cc78e4fff81139fecb4dbde5e",
      "f6288dc2b8d74b41b7315d7e7dbe27a9",
      "61ddc3752ac54abb94aabe36f0e36222",
      "d877cd30ed154079ba43d1009a131f33",
      "37a77d1ffdd74c6fa1a5b01ec78d7ca6",
      "a88b88af615a4efb9f94668803a1332d",
      "103e95b4c0234d12983618db14d7e0e0",
      "154d96686b9e41078eed37ead12d265d",
      "89b0628eff644beaae373fd13a2ab41f",
      "d7974c6144a44002867ee9f86b8cca6a",
      "c5a39396b7b94851ba21ff4b9077da42",
      "bb97fa7f0d3b4b7aa47acf58b9679b64",
      "067d3883e67e40da9550dfcc12eccbf1",
      "854b0fd99f6d438fad7684e6e93fbb96",
      "cfe53b1103eb40dea1d73b6f5165d26a",
      "a0de5ce3806344c18ae088646aacabbb",
      "a9076342b011408684951389a59e80c7",
      "fce60b52115c4625ba8ad85002bec9ae",
      "d2fb594fd56348fb8c2d6cd6c2638856",
      "84f67b2288334ca787466585126a49fe",
      "1e285bb45cfa44ffb59c6af67189627a",
      "1b8ec7d57a1441ccb6dfa2f3ee2e81dd",
      "c48cb27f417a4d89b64916a126d6979d",
      "ed691208cc3749c29b0af31ed2782b5e",
      "2dfe125cb9254a9aaee3d768cd9b18dc",
      "68d2f31857cc45819891725a0e4dc5e5",
      "2ea189d7274643798e3530d64ba94cf5",
      "e321d6a4d06840ea8756c919e51f9d63",
      "bb6b554d404d4103911c4a34b15e9290",
      "13b492260139408a87007d45e1c0914b",
      "2189ebe7ba8f40ae9b62a1a6a35543a1",
      "10ab6cb949cd49c4b2367080b3105b9c",
      "013a241ce06a4d7080a2da0cffe1dafb",
      "fca0fe264d2348af8d96e36b3b95564f",
      "b8ed291efa71422bae6c3b654d06d002",
      "d8d8eec3aba04b7bbae98275905aaec0",
      "1850cdd2eb114ad7b66852dace2f2160",
      "55850e2aae2d4a1d9b9c8346983266ae",
      "16e2582812d44d2c813c8d1745afb056",
      "bf230616901846d8b0f8edcb8f7a7f20",
      "ade167a92bcb447489865ee41fc69022"
     ]
    },
    "id": "-CPgCL6AO8p8",
    "outputId": "c6f0b301-6271-4e04-9c67-05d1fee985c5"
   },
   "outputs": [],
   "source": [
    "# model_id = \"meta-llama/Meta-Llama-3-8B\"\n",
    "model_id = \"hakeematyab/CareConnect-v2-Llama-3-8B\""
   ]
  },
  {
   "cell_type": "code",
   "execution_count": null,
   "metadata": {},
   "outputs": [],
   "source": [
    "cache_dir = '/scratch/hakeem.at/data_ra/hugginface_models'\n",
    "\n",
    "tokenizer = AutoTokenizer.from_pretrained(model_id,cache_dir=cache_dir)\n",
    "tokenizer.pad_token = tokenizer.eos_token\n",
    "tokenizer.pad_token_id = tokenizer.eos_token_id\n",
    "tokenizer.padding_side = 'left'"
   ]
  },
  {
   "cell_type": "code",
   "execution_count": null,
   "metadata": {},
   "outputs": [],
   "source": [
    "bnb_config = BitsAndBytesConfig(\n",
    "    load_in_4bit=True,\n",
    "    bnb_4bit_use_double_quant=True,\n",
    "    bnb_4bit_quant_type=\"nf4\",\n",
    "    bnb_4bit_compute_dtype=torch.bfloat16\n",
    ")\n",
    "model = AutoModelForCausalLM.from_pretrained(model_id, quantization_config=bnb_config, device_map={\"\":0},cache_dir=cache_dir)"
   ]
  },
  {
   "cell_type": "code",
   "execution_count": 6,
   "metadata": {},
   "outputs": [],
   "source": [
    "bleu_score = evaluate.load(\"bleu\")\n",
    "rouge_score = evaluate.load(\"rouge\")\n",
    "bert_score= evaluate.load(\"bertscore\")\n",
    "semantic_model = SentenceTransformer('sentence-transformers/all-MiniLM-L6-v2')"
   ]
  },
  {
   "cell_type": "code",
   "execution_count": 7,
   "metadata": {},
   "outputs": [],
   "source": [
    "prompt_template = '''### system: \n",
    "You are CareConnect, an expert medical personal assistant.\n",
    "\n",
    "### instruction: \n",
    "Answer the user's queries truthfully and accurately, based on the provided context if the context is applicable. Refuse to answer any questions unrelated to medicine.\n",
    "\n",
    "### context: \n",
    "{context}\n",
    "\n",
    "### user: \n",
    "{user_query}\n",
    "\n",
    "### system: \n",
    "'''\n",
    "def preprocess_function(examples,threshold=None):    \n",
    "    inputs = []\n",
    "    contexts = []\n",
    "    for question, answer, retrieved_question, retrieved_answer, score in zip(examples['question'],examples['answer'],examples['retrieved_question'],examples['retrieved_answer'],examples['scores']):\n",
    "        if threshold is not None:\n",
    "            if score>=threshold:\n",
    "                context = f'{retrieved_question}\\n{retrieved_answer}'\n",
    "            else:\n",
    "                context= \"\"\n",
    "        else:\n",
    "            context = f'{retrieved_question}\\n{retrieved_answer}'\n",
    "        contexts.append(context)\n",
    "        inputs.append(prompt_template.format(context=context, user_query=question))\n",
    "    return {'text':inputs,'input':examples['question'],'output': examples['answer'],'context':contexts }"
   ]
  },
  {
   "cell_type": "code",
   "execution_count": 8,
   "metadata": {},
   "outputs": [],
   "source": [
    "def evaluate_model(examples):\n",
    "    params = {\n",
    "            \"max_new_tokens\": 100,\n",
    "            \"do_sample\": True,\n",
    "            \"top_k\": 50,\n",
    "            \"top_p\": 0.95,\n",
    "            \"temperature\": 0.7,\n",
    "            \"num_beams\": 5,\n",
    "            \"early_stopping\": True,\n",
    "            \"no_repeat_ngram_size\": 2\n",
    "            }\n",
    "    predictions=[]\n",
    "    inputs = tokenizer(examples['text'], max_length=1024, truncation=True,padding=\"max_length\",return_tensors=\"pt\")\n",
    "    inputs = {k: v.to(model.device) for k, v in inputs.items()}\n",
    "    # Generate output using the model\n",
    "    outputs = model.generate(**inputs,**params)\n",
    "    decoded_output = tokenizer.batch_decode(outputs, skip_special_tokens=True)\n",
    "    for prompt, pred in zip(examples['text'],decoded_output):\n",
    "        predictions.append(pred[len(prompt):])\n",
    "    outputs = {'input':examples['input'], 'output':examples['output'],'context': examples['context'],'prediction': predictions}\n",
    "    torch.cuda.empty_cache()\n",
    "    return outputs"
   ]
  },
  {
   "cell_type": "code",
   "execution_count": 9,
   "metadata": {},
   "outputs": [],
   "source": [
    "def compute_average_semantic_similarity(expected_answers, generated_responses, batch_size=32):\n",
    "    \"\"\"\n",
    "    Compute the average semantic similarity between expected answers and generated responses in batches.\n",
    "\n",
    "    :param expected_answers: List of expected answers.\n",
    "    :param generated_responses: List of generated responses.\n",
    "    :param batch_size: Size of each batch for processing.\n",
    "    :return: Average semantic similarity.\n",
    "    \"\"\"\n",
    "    # Function to compute semantic similarity in batches\n",
    "    def batch_compute_semantic_similarity(expected_list, generated_list):\n",
    "        expected_embeddings = semantic_model.encode(expected_list, convert_to_tensor=True, batch_size=batch_size)\n",
    "        generated_embeddings = semantic_model.encode(generated_list, convert_to_tensor=True, batch_size=batch_size)\n",
    "        similarities = util.pytorch_cos_sim(expected_embeddings, generated_embeddings)\n",
    "        return similarities.diag().cpu().numpy()  # Extract the diagonal which contains the similarity scores\n",
    "\n",
    "    # Compute semantic similarities in batches\n",
    "    all_similarities = []\n",
    "    for start_idx in range(0, len(expected_answers), batch_size):\n",
    "        end_idx = min(start_idx + batch_size, len(expected_answers))\n",
    "        batch_expected = expected_answers[start_idx:end_idx]\n",
    "        batch_generated = generated_responses[start_idx:end_idx]\n",
    "        batch_similarities = batch_compute_semantic_similarity(batch_expected, batch_generated)\n",
    "        all_similarities.extend(batch_similarities)\n",
    "\n",
    "    # Calculate the average semantic similarity\n",
    "    average_similarity = sum(all_similarities) / len(all_similarities) if all_similarities else 0.0\n",
    "    return average_similarity"
   ]
  },
  {
   "cell_type": "code",
   "execution_count": 10,
   "metadata": {},
   "outputs": [],
   "source": [
    "def compute_metrics(examples):\n",
    "    bert_result = bert_score.compute(predictions=examples['prediction'], references=examples['output'], lang=\"en\")\n",
    "    bleu_result = bleu_score.compute(predictions=examples['prediction'], references=[[truth] for truth in examples['output']])\n",
    "    rouge_result = rouge_score.compute(predictions=examples['prediction'], references=[[truth] for truth in examples['output']])\n",
    "    average_similarity = compute_average_semantic_similarity(examples['output'], examples['prediction'])\n",
    "    testMetrics = {\n",
    "        'bert_precision': np.mean(bert_result['precision']),\n",
    "        'bert_recall': np.mean(bert_result['recall']),\n",
    "        'bert_f1': np.mean(bert_result['f1']),\n",
    "        'bleu': bleu_result['bleu'],\n",
    "        'rouge1': rouge_result['rouge1'],\n",
    "        'rouge2': rouge_result['rouge2'],\n",
    "        'rougeL': rouge_result['rougeL'],\n",
    "        'rougeLsum':rouge_result[\"rougeLsum\"],\n",
    "        'semantic_similarity': average_similarity,\n",
    "    }\n",
    "    return testMetrics"
   ]
  },
  {
   "cell_type": "markdown",
   "metadata": {
    "jp-MarkdownHeadingCollapsed": true,
    "tags": []
   },
   "source": [
    "## Base Llama-3 Model"
   ]
  },
  {
   "cell_type": "code",
   "execution_count": 11,
   "metadata": {},
   "outputs": [
    {
     "data": {
      "text/plain": [
       "Dataset({\n",
       "    features: ['question', 'answer', 'retrieved_question', 'retrieved_answer', 'scores'],\n",
       "    num_rows: 100\n",
       "})"
      ]
     },
     "execution_count": 11,
     "metadata": {},
     "output_type": "execute_result"
    }
   ],
   "source": [
    "dataset = load_dataset('hakeematyab/icliniq-Cosine-Test-100')['train']\n",
    "dataset"
   ]
  },
  {
   "cell_type": "markdown",
   "metadata": {
    "tags": []
   },
   "source": [
    "### With Cosine-RAG"
   ]
  },
  {
   "cell_type": "code",
   "execution_count": 12,
   "metadata": {},
   "outputs": [
    {
     "data": {
      "text/plain": [
       "Dataset({\n",
       "    features: ['question', 'answer', 'retrieved_question', 'retrieved_answer', 'scores', 'text', 'input', 'output', 'context'],\n",
       "    num_rows: 100\n",
       "})"
      ]
     },
     "execution_count": 12,
     "metadata": {},
     "output_type": "execute_result"
    }
   ],
   "source": [
    "processedDataset = dataset.map(preprocess_function, batched=True)\n",
    "processedDataset"
   ]
  },
  {
   "cell_type": "code",
   "execution_count": null,
   "metadata": {},
   "outputs": [],
   "source": [
    "batch_size = 4\n",
    "evaluation_results = processedDataset.map(evaluate_model, batched=True,batch_size = batch_size)"
   ]
  },
  {
   "cell_type": "code",
   "execution_count": 14,
   "metadata": {},
   "outputs": [
    {
     "data": {
      "text/html": [
       "<div>\n",
       "<style scoped>\n",
       "    .dataframe tbody tr th:only-of-type {\n",
       "        vertical-align: middle;\n",
       "    }\n",
       "\n",
       "    .dataframe tbody tr th {\n",
       "        vertical-align: top;\n",
       "    }\n",
       "\n",
       "    .dataframe thead th {\n",
       "        text-align: right;\n",
       "    }\n",
       "</style>\n",
       "<table border=\"1\" class=\"dataframe\">\n",
       "  <thead>\n",
       "    <tr style=\"text-align: left;\">\n",
       "      <th></th>\n",
       "      <th>input</th>\n",
       "      <th>output</th>\n",
       "      <th>context</th>\n",
       "      <th>prediction</th>\n",
       "    </tr>\n",
       "  </thead>\n",
       "  <tbody>\n",
       "    <tr>\n",
       "      <th>0</th>\n",
       "      <td>Hi doctor,I am suffering from irregular periods. I am currently taking medication Levothyroxine 50. My T3 is 0.87 ng/mL, T4 is 8.30 ug/dL, TSH is 2.43 uIU/mL. I am 34 years old, weigh 75 kg, and 5 feet tall. Please advice.</td>\n",
       "      <td>Hi. From your query, I understand that you are suffering from hypothyroidism. I need to know when was it diagnosed, and what was the thyroid profile at that time. Irregular periods and weight gain is a part of hypothyroidism. I would like to modify your dose as well as advise you ways to reduce your weight. All will be well once we modify your dose.</td>\n",
       "      <td>Sir suggests homoeo medicine for high tsh on 57-year-old woman.\\nIf you are hypothyroid, you should seek medical attention and start taking thyroid replacement medication.</td>\n",
       "      <td>I'm sorry, but I'm not allowed to give medical advice. However, I can provide you with some general information about your condition. If you have any further questions or concerns, please consult with your healthcare provider.</td>\n",
       "    </tr>\n",
       "    <tr>\n",
       "      <th>1</th>\n",
       "      <td>Hello doctor,I have a query on ectopic pregnancy. My wife is having one and her beta hCG levels were 125.25 ml after taking her first shot of Methotrexate. Yesterday, she got her second shot and her beta hCG levels today were 141. I wanted to know how much time Methotrexate takes to low down those levels and I was wondering if we were a little hurried in taking the second dose so quickly.</td>\n",
       "      <td>Hello, Welcome to Chat Doctor forum. I hope you had taken the Methotrexate dose under supervision only. The usual protocol is to check for a repeat beta hCG on the fourth day of taking Methotrexate. Early testing may cause undue anxiety and panic as it takes some time for the levels to come down. Moreover, a few times the levels get slightly elevated after a Methotrexate. So stay calm and follow the instructions of the gynecologist you are following. Just report to the emergency in case of any acute pain, giddiness or bleeding.</td>\n",
       "      <td>I found out that I am pregnant 3 days ago. My period was due yesterday. Today I have started experiencing some cramping in the lower left side of my stomach. I have been told by my GP to see him and have my proestogen levels checked.\\nB-CareConnect levels in blood should be checked and repeated after 48 hours to check if there is a doubling in their levels. Progesterone levels can tell if the pregnancy is viable or likely to fail.</td>\n",
       "      <td>Ectopic pregnancies are pregnancies that occur outside the uterus. The most common site is the fallopian tube, followed by the cervix, ovaries, and abdominal cavity. Ectopics account for 1-2% of all pregnancies and are associated with significant maternal morbidity and mortality. Early diagnosis and treatment are essential to reduce maternal mortality and improve maternal and fetal outcomes. In the case of a tubal pregnancy, the treatment of choice is surgical removal of the affected tube (sal</td>\n",
       "    </tr>\n",
       "    <tr>\n",
       "      <th>2</th>\n",
       "      <td>Hi doctor,I am 28 years old. My height is 5\\\\4\\\" and weight is 70 kg. We have been trying for pregnancy for a year. My husband\\\\s reports were all normal. I am having PCOS, but my periods are very regular. I am on Oxetol 300 mg for partial seizure since one year. I am also taking Metformin 500 mg thrice daily for five months. I have not used any contraceptive pills still now. My insulin levels are also normal. Please help me out. I am getting very much depressed.</td>\n",
       "      <td>Hello, Welcome to Chat Doctor forum. Having seen your PCOS reports (attachment removed to protect patient identity), it is suggested that you should opt for controlled ovarian stimulation and intrauterine insemination procedure.</td>\n",
       "      <td>Chitra has PCOS and irregular menstrual cycle. She stopped using Duoluton last month and started Hyponidd for 6 months. She missed her period on 18th May 2014. She moved to the USA and couldnt have a personal consultation with her doctor.\\nInfertility is not a disease that can be cured with medicines alone. You need to consult an infertility specialist for proper guidance.</td>\n",
       "      <td>I am sorry, I can\\\\'t help you with your problem. Consult a doctor in person.\\n\\n</td>\n",
       "    </tr>\n",
       "    <tr>\n",
       "      <th>3</th>\n",
       "      <td>Hello doctor,Kindly shed light on some issues. I had my period two months back and I had the next once a month later, which only came for a day and I have not had it since it till now. I did home test before my period came which read negative. My two breasts ache and immediately after my period comes, the pain disappear. How many days menstrual cycle do I have? Am I pregnant?</td>\n",
       "      <td>Hello. Menstrual cycle can be 23 days to 37 days. And bleeding can be from 1 day to 10 days anywhere and all this normal. No need to worry. Sometimes due to imbalance in your body or normally also, your period can be 5 to 6 days here or there and it is absolutely normal.When there is a major imbalance or another problem in ovary than it is more irregular. Now it is also true that sometimes you only have minimal bleeding around your period date while you are pregnant called as implantation bleeding. Around the date, the test can be negative. Do urine pregnancy test once again now, if it is negative, then you are not pregnant and it was normal menses.  For breast pain, many female suffer before and during menses also, it is due to hormonal (chemical) changes happening during your cycle that also affects other body parts. And it is one of it. So do not worry. In case of unbearable pain, you can take oral painkillers. You have normal menstrual cycle.  Take care.</td>\n",
       "      <td>I got my period on 28 daayz. The day after I travelled and got mycperod. My period lasted 4 days. I was feeling nauseas the last day of my period. I took tezt but it didn't help. Now it's 2 days later and\\nPregnancy tests are pretty accurate, blood tests are a bit better.</td>\n",
       "      <td>Menstruation is the shedding of the uterine lining that occurs in the absence of pregnancy. Menstrual cycles are typically 21-35 days in length, with an average of 29.1 days, and last for 3-7 days on average. It is normal for menstrual cycles to be irregular for the first few years after menarche (the first menstrual period), and for them to become more regular with age. If you have had two menstrual periods in a row,</td>\n",
       "    </tr>\n",
       "    <tr>\n",
       "      <th>4</th>\n",
       "      <td>Hello doctor,My 6-week-old daughter has got white hypopigmented areas on bilateral groins and both inner thighs more in the left groin. Also, they seem to be appearing near the umbilicus and upper chest. We are very worried about it and want to know if there is any treatment available for it. Your opinion will be appreciated. I have attached reports for your reference.</td>\n",
       "      <td>Hello, Welcome to Chat Doctor forum. I have gone through the attachments (attachment removed to protect patient identity). She seems to have trichrome vitiligo which is an indication of active disease. I would like to know the duration. For more information consult a dermatologist online</td>\n",
       "      <td>My six-year-old daughter has a freckle-like birth mark on her leg. She has it since she came back from holiday in France.\\nMam/sir, your daughter has a light brown patch on her skin. It might be caused by two conditions: 1. Cafe AU last male, 2. Post inflammatory hyperpigmentation. It can be treated with topical corticosteroids twice a day.</td>\n",
       "      <td>Your daughter is suffering from vitiligo, which is a skin condition characterized by the loss of pigmentation in certain areas of the body. There is no known cure for this condition, but there are treatments that can help to reduce the symptoms and improve the appearance of affected areas. These treatments include topical creams, light therapy, and immunosuppressant medications. However, it is important to note that the effectiveness of these treatments can vary from person to person. If you have any further questions or</td>\n",
       "    </tr>\n",
       "  </tbody>\n",
       "</table>\n",
       "</div>"
      ],
      "text/plain": [
       "  input                                                                                                                                                                                                                                                                                                                                                                                                                                                                                output                                                                                                                                                                                                                                                                                                                                                                                                                                                                                                                                                                                                                                                                                                                                                                                                                                                                                                                                                                                                        context                                                                                                                                                                                                                                                                                                                                                                                                                                             prediction                                                                                                                                                                                                                                                                                                                                                                                                                                                                                                                                     \n",
       "0                                                                                                                                                                                                                                                       Hi doctor,I am suffering from irregular periods. I am currently taking medication Levothyroxine 50. My T3 is 0.87 ng/mL, T4 is 8.30 ug/dL, TSH is 2.43 uIU/mL. I am 34 years old, weigh 75 kg, and 5 feet tall. Please advice.                                                                                                                                                                                                                                                                                                                                                                                                                                                                                                                                                                                                                                               Hi. From your query, I understand that you are suffering from hypothyroidism. I need to know when was it diagnosed, and what was the thyroid profile at that time. Irregular periods and weight gain is a part of hypothyroidism. I would like to modify your dose as well as advise you ways to reduce your weight. All will be well once we modify your dose.                                                                                                                                                                                                                                                                         Sir suggests homoeo medicine for high tsh on 57-year-old woman.\\nIf you are hypothyroid, you should seek medical attention and start taking thyroid replacement medication.                                                                                                                                                                                                                                                                                                              I'm sorry, but I'm not allowed to give medical advice. However, I can provide you with some general information about your condition. If you have any further questions or concerns, please consult with your healthcare provider.\n",
       "1                                                                              Hello doctor,I have a query on ectopic pregnancy. My wife is having one and her beta hCG levels were 125.25 ml after taking her first shot of Methotrexate. Yesterday, she got her second shot and her beta hCG levels today were 141. I wanted to know how much time Methotrexate takes to low down those levels and I was wondering if we were a little hurried in taking the second dose so quickly.                                                                                                                                                                                                                                                                                                                                                                                                                                                         Hello, Welcome to Chat Doctor forum. I hope you had taken the Methotrexate dose under supervision only. The usual protocol is to check for a repeat beta hCG on the fourth day of taking Methotrexate. Early testing may cause undue anxiety and panic as it takes some time for the levels to come down. Moreover, a few times the levels get slightly elevated after a Methotrexate. So stay calm and follow the instructions of the gynecologist you are following. Just report to the emergency in case of any acute pain, giddiness or bleeding.  I found out that I am pregnant 3 days ago. My period was due yesterday. Today I have started experiencing some cramping in the lower left side of my stomach. I have been told by my GP to see him and have my proestogen levels checked.\\nB-CareConnect levels in blood should be checked and repeated after 48 hours to check if there is a doubling in their levels. Progesterone levels can tell if the pregnancy is viable or likely to fail.                              Ectopic pregnancies are pregnancies that occur outside the uterus. The most common site is the fallopian tube, followed by the cervix, ovaries, and abdominal cavity. Ectopics account for 1-2% of all pregnancies and are associated with significant maternal morbidity and mortality. Early diagnosis and treatment are essential to reduce maternal mortality and improve maternal and fetal outcomes. In the case of a tubal pregnancy, the treatment of choice is surgical removal of the affected tube (sal\n",
       "2  Hi doctor,I am 28 years old. My height is 5\\\\4\\\" and weight is 70 kg. We have been trying for pregnancy for a year. My husband\\\\s reports were all normal. I am having PCOS, but my periods are very regular. I am on Oxetol 300 mg for partial seizure since one year. I am also taking Metformin 500 mg thrice daily for five months. I have not used any contraceptive pills still now. My insulin levels are also normal. Please help me out. I am getting very much depressed.                                                                                                                                                                                                                                                                                                                                                                                                                                                                                                                                                                                                                                                                                                                                                                          Hello, Welcome to Chat Doctor forum. Having seen your PCOS reports (attachment removed to protect patient identity), it is suggested that you should opt for controlled ovarian stimulation and intrauterine insemination procedure.                                                             Chitra has PCOS and irregular menstrual cycle. She stopped using Duoluton last month and started Hyponidd for 6 months. She missed her period on 18th May 2014. She moved to the USA and couldnt have a personal consultation with her doctor.\\nInfertility is not a disease that can be cured with medicines alone. You need to consult an infertility specialist for proper guidance.                                                                                                                                                                                                                                                                                                                                                                                                                                                               I am sorry, I can\\\\'t help you with your problem. Consult a doctor in person.\\n\\n\n",
       "3                                                                                           Hello doctor,Kindly shed light on some issues. I had my period two months back and I had the next once a month later, which only came for a day and I have not had it since it till now. I did home test before my period came which read negative. My two breasts ache and immediately after my period comes, the pain disappear. How many days menstrual cycle do I have? Am I pregnant?  Hello. Menstrual cycle can be 23 days to 37 days. And bleeding can be from 1 day to 10 days anywhere and all this normal. No need to worry. Sometimes due to imbalance in your body or normally also, your period can be 5 to 6 days here or there and it is absolutely normal.When there is a major imbalance or another problem in ovary than it is more irregular. Now it is also true that sometimes you only have minimal bleeding around your period date while you are pregnant called as implantation bleeding. Around the date, the test can be negative. Do urine pregnancy test once again now, if it is negative, then you are not pregnant and it was normal menses.  For breast pain, many female suffer before and during menses also, it is due to hormonal (chemical) changes happening during your cycle that also affects other body parts. And it is one of it. So do not worry. In case of unbearable pain, you can take oral painkillers. You have normal menstrual cycle.  Take care.                                                                                                                                                                    I got my period on 28 daayz. The day after I travelled and got mycperod. My period lasted 4 days. I was feeling nauseas the last day of my period. I took tezt but it didn't help. Now it's 2 days later and\\nPregnancy tests are pretty accurate, blood tests are a bit better.                                                                                                           Menstruation is the shedding of the uterine lining that occurs in the absence of pregnancy. Menstrual cycles are typically 21-35 days in length, with an average of 29.1 days, and last for 3-7 days on average. It is normal for menstrual cycles to be irregular for the first few years after menarche (the first menstrual period), and for them to become more regular with age. If you have had two menstrual periods in a row,\n",
       "4                                                                                                  Hello doctor,My 6-week-old daughter has got white hypopigmented areas on bilateral groins and both inner thighs more in the left groin. Also, they seem to be appearing near the umbilicus and upper chest. We are very worried about it and want to know if there is any treatment available for it. Your opinion will be appreciated. I have attached reports for your reference.                                                                                                                                                                                                                                                                                                                                                                                                                                                                                                                                                                                                                                                                                                              Hello, Welcome to Chat Doctor forum. I have gone through the attachments (attachment removed to protect patient identity). She seems to have trichrome vitiligo which is an indication of active disease. I would like to know the duration. For more information consult a dermatologist online                                                                                              My six-year-old daughter has a freckle-like birth mark on her leg. She has it since she came back from holiday in France.\\nMam/sir, your daughter has a light brown patch on her skin. It might be caused by two conditions: 1. Cafe AU last male, 2. Post inflammatory hyperpigmentation. It can be treated with topical corticosteroids twice a day.  Your daughter is suffering from vitiligo, which is a skin condition characterized by the loss of pigmentation in certain areas of the body. There is no known cure for this condition, but there are treatments that can help to reduce the symptoms and improve the appearance of affected areas. These treatments include topical creams, light therapy, and immunosuppressant medications. However, it is important to note that the effectiveness of these treatments can vary from person to person. If you have any further questions or"
      ]
     },
     "execution_count": 14,
     "metadata": {},
     "output_type": "execute_result"
    }
   ],
   "source": [
    "pd.set_option('display.max_colwidth', None)\n",
    "pd.set_option('display.expand_frame_repr', False)\n",
    "pd.set_option('display.colheader_justify', 'left')\n",
    "evaluation_results_df = evaluation_results.to_pandas()[['input','output','context','prediction']]\n",
    "evaluation_results_df.to_csv('final_results/base_rag_cosine_outputs.csv',index=None)\n",
    "evaluation_results_df.head()"
   ]
  },
  {
   "cell_type": "code",
   "execution_count": 19,
   "metadata": {},
   "outputs": [
    {
     "data": {
      "text/html": [
       "<div>\n",
       "<style scoped>\n",
       "    .dataframe tbody tr th:only-of-type {\n",
       "        vertical-align: middle;\n",
       "    }\n",
       "\n",
       "    .dataframe tbody tr th {\n",
       "        vertical-align: top;\n",
       "    }\n",
       "\n",
       "    .dataframe thead th {\n",
       "        text-align: right;\n",
       "    }\n",
       "</style>\n",
       "<table border=\"1\" class=\"dataframe\">\n",
       "  <thead>\n",
       "    <tr style=\"text-align: left;\">\n",
       "      <th></th>\n",
       "      <th>bert_precision</th>\n",
       "      <th>bert_recall</th>\n",
       "      <th>bert_f1</th>\n",
       "      <th>bleu</th>\n",
       "      <th>rouge1</th>\n",
       "      <th>rouge2</th>\n",
       "      <th>rougeL</th>\n",
       "      <th>rougeLsum</th>\n",
       "      <th>semantic_similarity</th>\n",
       "    </tr>\n",
       "  </thead>\n",
       "  <tbody>\n",
       "    <tr>\n",
       "      <th>0</th>\n",
       "      <td>0.84047</td>\n",
       "      <td>0.820502</td>\n",
       "      <td>0.830196</td>\n",
       "      <td>0.009943</td>\n",
       "      <td>0.194762</td>\n",
       "      <td>0.020521</td>\n",
       "      <td>0.112262</td>\n",
       "      <td>0.113541</td>\n",
       "      <td>0.421988</td>\n",
       "    </tr>\n",
       "  </tbody>\n",
       "</table>\n",
       "</div>"
      ],
      "text/plain": [
       "   bert_precision  bert_recall  bert_f1   bleu      rouge1    rouge2    rougeL    rougeLsum  semantic_similarity\n",
       "0  0.84047         0.820502     0.830196  0.009943  0.194762  0.020521  0.112262  0.113541   0.421988           "
      ]
     },
     "execution_count": 19,
     "metadata": {},
     "output_type": "execute_result"
    }
   ],
   "source": [
    "metrics = compute_metrics(evaluation_results)\n",
    "metrics_df = pd.DataFrame([metrics])\n",
    "metrics_df.to_csv('final_results/base_rag_cosine_metrics.csv',index=None)\n",
    "metrics_df.head()"
   ]
  },
  {
   "cell_type": "markdown",
   "metadata": {
    "tags": []
   },
   "source": [
    "### Cosine RAG With Threshold"
   ]
  },
  {
   "cell_type": "code",
   "execution_count": null,
   "metadata": {
    "tags": []
   },
   "outputs": [],
   "source": [
    "processedDataset = dataset.map(preprocess_function, batched=True,fn_kwargs = {'threshold':0.9})\n",
    "processedDataset"
   ]
  },
  {
   "cell_type": "code",
   "execution_count": null,
   "metadata": {},
   "outputs": [],
   "source": [
    "batch_size = 4\n",
    "evaluation_results = processedDataset.map(evaluate_model, batched=True,batch_size = batch_size)\n",
    "pd.set_option('display.max_colwidth', None)\n",
    "pd.set_option('display.expand_frame_repr', False)\n",
    "pd.set_option('display.colheader_justify', 'left')\n",
    "evaluation_results_df = evaluation_results.to_pandas()[['input','output','context','prediction']]\n",
    "evaluation_results_df.to_csv('final_results/base_rag_cosine_threshold_outputs.csv',index=None)\n",
    "evaluation_results_df.head()"
   ]
  },
  {
   "cell_type": "code",
   "execution_count": 22,
   "metadata": {},
   "outputs": [
    {
     "data": {
      "text/html": [
       "<div>\n",
       "<style scoped>\n",
       "    .dataframe tbody tr th:only-of-type {\n",
       "        vertical-align: middle;\n",
       "    }\n",
       "\n",
       "    .dataframe tbody tr th {\n",
       "        vertical-align: top;\n",
       "    }\n",
       "\n",
       "    .dataframe thead th {\n",
       "        text-align: right;\n",
       "    }\n",
       "</style>\n",
       "<table border=\"1\" class=\"dataframe\">\n",
       "  <thead>\n",
       "    <tr style=\"text-align: left;\">\n",
       "      <th></th>\n",
       "      <th>bert_precision</th>\n",
       "      <th>bert_recall</th>\n",
       "      <th>bert_f1</th>\n",
       "      <th>bleu</th>\n",
       "      <th>rouge1</th>\n",
       "      <th>rouge2</th>\n",
       "      <th>rougeL</th>\n",
       "      <th>rougeLsum</th>\n",
       "      <th>semantic_similarity</th>\n",
       "    </tr>\n",
       "  </thead>\n",
       "  <tbody>\n",
       "    <tr>\n",
       "      <th>0</th>\n",
       "      <td>0.838776</td>\n",
       "      <td>0.823488</td>\n",
       "      <td>0.830919</td>\n",
       "      <td>0.010655</td>\n",
       "      <td>0.212416</td>\n",
       "      <td>0.022648</td>\n",
       "      <td>0.120275</td>\n",
       "      <td>0.121954</td>\n",
       "      <td>0.459985</td>\n",
       "    </tr>\n",
       "  </tbody>\n",
       "</table>\n",
       "</div>"
      ],
      "text/plain": [
       "   bert_precision  bert_recall  bert_f1   bleu      rouge1    rouge2    rougeL    rougeLsum  semantic_similarity\n",
       "0  0.838776        0.823488     0.830919  0.010655  0.212416  0.022648  0.120275  0.121954   0.459985           "
      ]
     },
     "execution_count": 22,
     "metadata": {},
     "output_type": "execute_result"
    }
   ],
   "source": [
    "metrics = compute_metrics(evaluation_results)\n",
    "metrics_df = pd.DataFrame([metrics])\n",
    "metrics_df.to_csv('final_results/base_rag_cosine_threshold_metrics.csv',index=None)\n",
    "metrics_df.head()"
   ]
  },
  {
   "cell_type": "markdown",
   "metadata": {
    "tags": []
   },
   "source": [
    "### Without RAG"
   ]
  },
  {
   "cell_type": "code",
   "execution_count": null,
   "metadata": {
    "tags": []
   },
   "outputs": [],
   "source": [
    "processedDataset = dataset.map(preprocess_function, batched=True,fn_kwargs = {'threshold':1.1})\n",
    "processedDataset"
   ]
  },
  {
   "cell_type": "code",
   "execution_count": null,
   "metadata": {},
   "outputs": [],
   "source": [
    "batch_size = 4\n",
    "evaluation_results = processedDataset.map(evaluate_model, batched=True,batch_size = batch_size)\n",
    "pd.set_option('display.max_colwidth', None)\n",
    "pd.set_option('display.expand_frame_repr', False)\n",
    "pd.set_option('display.colheader_justify', 'left')\n",
    "evaluation_results_df = evaluation_results.to_pandas()[['input','output','context','prediction']]\n",
    "evaluation_results_df.to_csv('final_results/base_outputs.csv',index=None)\n",
    "evaluation_results_df.head()"
   ]
  },
  {
   "cell_type": "code",
   "execution_count": 25,
   "metadata": {},
   "outputs": [
    {
     "data": {
      "text/html": [
       "<div>\n",
       "<style scoped>\n",
       "    .dataframe tbody tr th:only-of-type {\n",
       "        vertical-align: middle;\n",
       "    }\n",
       "\n",
       "    .dataframe tbody tr th {\n",
       "        vertical-align: top;\n",
       "    }\n",
       "\n",
       "    .dataframe thead th {\n",
       "        text-align: right;\n",
       "    }\n",
       "</style>\n",
       "<table border=\"1\" class=\"dataframe\">\n",
       "  <thead>\n",
       "    <tr style=\"text-align: left;\">\n",
       "      <th></th>\n",
       "      <th>bert_precision</th>\n",
       "      <th>bert_recall</th>\n",
       "      <th>bert_f1</th>\n",
       "      <th>bleu</th>\n",
       "      <th>rouge1</th>\n",
       "      <th>rouge2</th>\n",
       "      <th>rougeL</th>\n",
       "      <th>rougeLsum</th>\n",
       "      <th>semantic_similarity</th>\n",
       "    </tr>\n",
       "  </thead>\n",
       "  <tbody>\n",
       "    <tr>\n",
       "      <th>0</th>\n",
       "      <td>0.839389</td>\n",
       "      <td>0.824338</td>\n",
       "      <td>0.831632</td>\n",
       "      <td>0.014211</td>\n",
       "      <td>0.21774</td>\n",
       "      <td>0.024242</td>\n",
       "      <td>0.123481</td>\n",
       "      <td>0.123884</td>\n",
       "      <td>0.459603</td>\n",
       "    </tr>\n",
       "  </tbody>\n",
       "</table>\n",
       "</div>"
      ],
      "text/plain": [
       "   bert_precision  bert_recall  bert_f1   bleu      rouge1   rouge2    rougeL    rougeLsum  semantic_similarity\n",
       "0  0.839389        0.824338     0.831632  0.014211  0.21774  0.024242  0.123481  0.123884   0.459603           "
      ]
     },
     "execution_count": 25,
     "metadata": {},
     "output_type": "execute_result"
    }
   ],
   "source": [
    "metrics = compute_metrics(evaluation_results)\n",
    "metrics_df = pd.DataFrame([metrics])\n",
    "metrics_df.to_csv('final_results/base_metrics.csv',index=None)\n",
    "metrics_df.head()"
   ]
  },
  {
   "cell_type": "markdown",
   "metadata": {
    "tags": []
   },
   "source": [
    "## Fine-tuned Llama-3 Model"
   ]
  },
  {
   "cell_type": "code",
   "execution_count": 11,
   "metadata": {},
   "outputs": [
    {
     "data": {
      "text/plain": [
       "Dataset({\n",
       "    features: ['question', 'answer', 'retrieved_question', 'retrieved_answer', 'scores'],\n",
       "    num_rows: 100\n",
       "})"
      ]
     },
     "execution_count": 11,
     "metadata": {},
     "output_type": "execute_result"
    }
   ],
   "source": [
    "dataset = load_dataset('hakeematyab/icliniq-Cosine-Test-100')['train']\n",
    "dataset"
   ]
  },
  {
   "cell_type": "markdown",
   "metadata": {
    "tags": []
   },
   "source": [
    "### With Cosine-RAG"
   ]
  },
  {
   "cell_type": "code",
   "execution_count": 18,
   "metadata": {},
   "outputs": [
    {
     "data": {
      "text/plain": [
       "Dataset({\n",
       "    features: ['question', 'answer', 'retrieved_question', 'retrieved_answer', 'scores', 'text', 'input', 'output', 'context'],\n",
       "    num_rows: 100\n",
       "})"
      ]
     },
     "execution_count": 18,
     "metadata": {},
     "output_type": "execute_result"
    }
   ],
   "source": [
    "processedDataset = dataset.map(preprocess_function, batched=True)\n",
    "processedDataset"
   ]
  },
  {
   "cell_type": "code",
   "execution_count": null,
   "metadata": {},
   "outputs": [],
   "source": [
    "batch_size = 4\n",
    "evaluation_results = processedDataset.map(evaluate_model, batched=True,batch_size = batch_size)"
   ]
  },
  {
   "cell_type": "code",
   "execution_count": null,
   "metadata": {},
   "outputs": [],
   "source": [
    "pd.set_option('display.max_colwidth', None)\n",
    "pd.set_option('display.expand_frame_repr', False)\n",
    "pd.set_option('display.colheader_justify', 'left')\n",
    "evaluation_results_df = evaluation_results.to_pandas()[['input','output','context','prediction']]\n",
    "evaluation_results_df.to_csv('final_results/finetune_rag_cosine_outputs.csv',index=None)\n",
    "evaluation_results_df.head()"
   ]
  },
  {
   "cell_type": "code",
   "execution_count": null,
   "metadata": {},
   "outputs": [],
   "source": [
    "metrics = compute_metrics(evaluation_results)\n",
    "metrics_df = pd.DataFrame([metrics])\n",
    "metrics_df.to_csv('final_results/finetune_rag_cosine_metrics.csv',index=None)\n",
    "metrics_df.head()"
   ]
  },
  {
   "cell_type": "markdown",
   "metadata": {
    "tags": []
   },
   "source": [
    "### Cosine RAG With Threshold"
   ]
  },
  {
   "cell_type": "code",
   "execution_count": 12,
   "metadata": {
    "tags": []
   },
   "outputs": [
    {
     "data": {
      "text/plain": [
       "Dataset({\n",
       "    features: ['question', 'answer', 'retrieved_question', 'retrieved_answer', 'scores', 'text', 'input', 'output', 'context'],\n",
       "    num_rows: 100\n",
       "})"
      ]
     },
     "execution_count": 12,
     "metadata": {},
     "output_type": "execute_result"
    }
   ],
   "source": [
    "processedDataset = dataset.map(preprocess_function, batched=True,fn_kwargs = {'threshold':0.9})\n",
    "processedDataset"
   ]
  },
  {
   "cell_type": "code",
   "execution_count": null,
   "metadata": {},
   "outputs": [],
   "source": [
    "batch_size = 4\n",
    "evaluation_results = processedDataset.map(evaluate_model, batched=True,batch_size = batch_size)\n",
    "pd.set_option('display.max_colwidth', None)\n",
    "pd.set_option('display.expand_frame_repr', False)\n",
    "pd.set_option('display.colheader_justify', 'left')\n",
    "evaluation_results_df = evaluation_results.to_pandas()[['input','output','context','prediction']]\n",
    "evaluation_results_df.to_csv('final_results/finetune_rag_cosine_threshold_outputs.csv',index=None)\n",
    "evaluation_results_df.head()"
   ]
  },
  {
   "cell_type": "code",
   "execution_count": 14,
   "metadata": {},
   "outputs": [
    {
     "name": "stderr",
     "output_type": "stream",
     "text": [
      "Some weights of RobertaModel were not initialized from the model checkpoint at roberta-large and are newly initialized: ['roberta.pooler.dense.bias', 'roberta.pooler.dense.weight']\n",
      "You should probably TRAIN this model on a down-stream task to be able to use it for predictions and inference.\n"
     ]
    },
    {
     "data": {
      "text/html": [
       "<div>\n",
       "<style scoped>\n",
       "    .dataframe tbody tr th:only-of-type {\n",
       "        vertical-align: middle;\n",
       "    }\n",
       "\n",
       "    .dataframe tbody tr th {\n",
       "        vertical-align: top;\n",
       "    }\n",
       "\n",
       "    .dataframe thead th {\n",
       "        text-align: right;\n",
       "    }\n",
       "</style>\n",
       "<table border=\"1\" class=\"dataframe\">\n",
       "  <thead>\n",
       "    <tr style=\"text-align: left;\">\n",
       "      <th></th>\n",
       "      <th>bert_precision</th>\n",
       "      <th>bert_recall</th>\n",
       "      <th>bert_f1</th>\n",
       "      <th>bleu</th>\n",
       "      <th>rouge1</th>\n",
       "      <th>rouge2</th>\n",
       "      <th>rougeL</th>\n",
       "      <th>rougeLsum</th>\n",
       "      <th>semantic_similarity</th>\n",
       "    </tr>\n",
       "  </thead>\n",
       "  <tbody>\n",
       "    <tr>\n",
       "      <th>0</th>\n",
       "      <td>0.842095</td>\n",
       "      <td>0.836036</td>\n",
       "      <td>0.838912</td>\n",
       "      <td>0.022102</td>\n",
       "      <td>0.250984</td>\n",
       "      <td>0.03341</td>\n",
       "      <td>0.138729</td>\n",
       "      <td>0.138489</td>\n",
       "      <td>0.545531</td>\n",
       "    </tr>\n",
       "  </tbody>\n",
       "</table>\n",
       "</div>"
      ],
      "text/plain": [
       "   bert_precision  bert_recall  bert_f1   bleu      rouge1    rouge2   rougeL    rougeLsum  semantic_similarity\n",
       "0  0.842095        0.836036     0.838912  0.022102  0.250984  0.03341  0.138729  0.138489   0.545531           "
      ]
     },
     "execution_count": 14,
     "metadata": {},
     "output_type": "execute_result"
    }
   ],
   "source": [
    "metrics = compute_metrics(evaluation_results)\n",
    "metrics_df = pd.DataFrame([metrics])\n",
    "metrics_df.to_csv('final_results/finetune_rag_cosine_threshold_metrics.csv',index=None)\n",
    "metrics_df.head()"
   ]
  },
  {
   "cell_type": "markdown",
   "metadata": {
    "tags": []
   },
   "source": [
    "### Without RAG"
   ]
  },
  {
   "cell_type": "code",
   "execution_count": 15,
   "metadata": {
    "tags": []
   },
   "outputs": [
    {
     "data": {
      "text/plain": [
       "Dataset({\n",
       "    features: ['question', 'answer', 'retrieved_question', 'retrieved_answer', 'scores', 'text', 'input', 'output', 'context'],\n",
       "    num_rows: 100\n",
       "})"
      ]
     },
     "execution_count": 15,
     "metadata": {},
     "output_type": "execute_result"
    }
   ],
   "source": [
    "processedDataset = dataset.map(preprocess_function, batched=True,fn_kwargs = {'threshold':1.1})\n",
    "processedDataset"
   ]
  },
  {
   "cell_type": "code",
   "execution_count": null,
   "metadata": {},
   "outputs": [],
   "source": [
    "batch_size = 4\n",
    "evaluation_results = processedDataset.map(evaluate_model, batched=True,batch_size = batch_size)\n",
    "pd.set_option('display.max_colwidth', None)\n",
    "pd.set_option('display.expand_frame_repr', False)\n",
    "pd.set_option('display.colheader_justify', 'left')\n",
    "evaluation_results_df = evaluation_results.to_pandas()[['input','output','context','prediction']]\n",
    "evaluation_results_df.to_csv('final_results/finetune_outputs.csv',index=None)\n",
    "evaluation_results_df.head()"
   ]
  },
  {
   "cell_type": "code",
   "execution_count": 17,
   "metadata": {},
   "outputs": [
    {
     "data": {
      "text/html": [
       "<div>\n",
       "<style scoped>\n",
       "    .dataframe tbody tr th:only-of-type {\n",
       "        vertical-align: middle;\n",
       "    }\n",
       "\n",
       "    .dataframe tbody tr th {\n",
       "        vertical-align: top;\n",
       "    }\n",
       "\n",
       "    .dataframe thead th {\n",
       "        text-align: right;\n",
       "    }\n",
       "</style>\n",
       "<table border=\"1\" class=\"dataframe\">\n",
       "  <thead>\n",
       "    <tr style=\"text-align: left;\">\n",
       "      <th></th>\n",
       "      <th>bert_precision</th>\n",
       "      <th>bert_recall</th>\n",
       "      <th>bert_f1</th>\n",
       "      <th>bleu</th>\n",
       "      <th>rouge1</th>\n",
       "      <th>rouge2</th>\n",
       "      <th>rougeL</th>\n",
       "      <th>rougeLsum</th>\n",
       "      <th>semantic_similarity</th>\n",
       "    </tr>\n",
       "  </thead>\n",
       "  <tbody>\n",
       "    <tr>\n",
       "      <th>0</th>\n",
       "      <td>0.838845</td>\n",
       "      <td>0.833013</td>\n",
       "      <td>0.835787</td>\n",
       "      <td>0.023548</td>\n",
       "      <td>0.242389</td>\n",
       "      <td>0.034651</td>\n",
       "      <td>0.135517</td>\n",
       "      <td>0.135339</td>\n",
       "      <td>0.53259</td>\n",
       "    </tr>\n",
       "  </tbody>\n",
       "</table>\n",
       "</div>"
      ],
      "text/plain": [
       "   bert_precision  bert_recall  bert_f1   bleu      rouge1    rouge2    rougeL    rougeLsum  semantic_similarity\n",
       "0  0.838845        0.833013     0.835787  0.023548  0.242389  0.034651  0.135517  0.135339   0.53259            "
      ]
     },
     "execution_count": 17,
     "metadata": {},
     "output_type": "execute_result"
    }
   ],
   "source": [
    "metrics = compute_metrics(evaluation_results)\n",
    "metrics_df = pd.DataFrame([metrics])\n",
    "metrics_df.to_csv('final_results/finetune_metrics.csv',index=None)\n",
    "metrics_df.head()"
   ]
  }
 ],
 "metadata": {
  "colab": {
   "provenance": []
  },
  "kernelspec": {
   "display_name": "Python LLM-Finetuning",
   "language": "python",
   "name": "llm_finetuning"
  },
  "language_info": {
   "codemirror_mode": {
    "name": "ipython",
    "version": 3
   },
   "file_extension": ".py",
   "mimetype": "text/x-python",
   "name": "python",
   "nbconvert_exporter": "python",
   "pygments_lexer": "ipython3",
   "version": "3.9.19"
  },
  "widgets": {
   "application/vnd.jupyter.widget-state+json": {
    "state": {},
    "version_major": 2,
    "version_minor": 0
   }
  }
 },
 "nbformat": 4,
 "nbformat_minor": 4
}
