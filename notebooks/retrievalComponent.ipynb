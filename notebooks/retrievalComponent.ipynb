{
 "cells": [
  {
   "cell_type": "markdown",
   "metadata": {},
   "source": [
    "### Installations"
   ]
  },
  {
   "cell_type": "code",
   "execution_count": null,
   "metadata": {},
   "outputs": [],
   "source": [
    "!pip install datasets evaluate rouge_score py7zr pinecone-client --quiet\n",
    "!pip install accelerate -U --quiet"
   ]
  },
  {
   "cell_type": "markdown",
   "metadata": {},
   "source": [
    "### Set Up"
   ]
  },
  {
   "cell_type": "code",
   "execution_count": 1,
   "metadata": {
    "id": "03S9I0RNY44i"
   },
   "outputs": [],
   "source": [
    "import gc\n",
    "import re\n",
    "import time\n",
    "import numpy as np\n",
    "import pandas as pd\n",
    "import matplotlib.pyplot as plt\n",
    "from datasets import load_dataset, Dataset\n",
    "import torch\n",
    "from torch.utils.data import Subset\n",
    "from transformers import (\n",
    "      AutoTokenizer, AutoModel,pipeline,\n",
    "      DataCollatorWithPadding,\n",
    "      AutoModelForSpeechSeq2Seq,\n",
    "      BartForConditionalGeneration,\n",
    "      TrainingArguments,\n",
    "      Seq2SeqTrainingArguments,\n",
    "      Trainer\n",
    ")\n",
    "\n",
    "from pinecone import Pinecone, ServerlessSpec\n",
    "import evaluate\n",
    "from tqdm.auto import tqdm\n",
    "import warnings\n",
    "from IPython.display import clear_output\n",
    "\n",
    "warnings.filterwarnings(\"ignore\")"
   ]
  },
  {
   "cell_type": "code",
   "execution_count": 2,
   "metadata": {
    "id": "UA-cstFQa4s2"
   },
   "outputs": [],
   "source": [
    "seed = 42\n",
    "np.random.seed(seed)"
   ]
  },
  {
   "cell_type": "markdown",
   "metadata": {},
   "source": [
    "### Data Preperation"
   ]
  },
  {
   "cell_type": "markdown",
   "metadata": {},
   "source": [
    "#### iCliniq"
   ]
  },
  {
   "cell_type": "code",
   "execution_count": 4,
   "metadata": {},
   "outputs": [
    {
     "data": {
      "text/plain": [
       "Dataset({\n",
       "    features: ['input', 'answer_icliniq', 'answer_chatgpt', 'answer_chatdoctor'],\n",
       "    num_rows: 7321\n",
       "})"
      ]
     },
     "execution_count": 4,
     "metadata": {},
     "output_type": "execute_result"
    }
   ],
   "source": [
    "icliniq = load_dataset('lavita/ChatDoctor-iCliniq')['train']\n",
    "icliniq"
   ]
  },
  {
   "cell_type": "markdown",
   "metadata": {},
   "source": [
    "#### Healthcare Magic"
   ]
  },
  {
   "cell_type": "code",
   "execution_count": 3,
   "metadata": {
    "colab": {
     "base_uri": "https://localhost:8080/",
     "height": 356,
     "referenced_widgets": [
      "5436c34099f44d1f9aa4ac3bfa032498",
      "a1b9777fcfda4226859e9d331f742303",
      "def4f7c79fce4a2994e7334ec2f2ec3f",
      "2725ee7014b34008b2cc343b304561ef",
      "3a09bbcca2864f73805136727eda9abc",
      "f54f259a2ff54b07bd7c579f7694d508",
      "e4d4e8e4252f46de80f7e59bc1090b34",
      "ec0c2ad25dc64d5d9158d916c3f8219e",
      "e1f5336513444130a5c0f92c401b4ce9",
      "007466bb5d314b5cb2ec7596f7977753",
      "fa6b37b3f4694545bd972122eacb6a24",
      "8f6e688f949e47f9ab450886e30e9010",
      "d7c5aa8327a442cda805d8b306341eec",
      "6ac5a96cc5b64df5bebb5c33da7a3eba",
      "b1db776733ec4bb8ad5b3422be441d8e",
      "24fd87214fbd416086a0fe12f1d16dd1",
      "fe9f28e3a3e14d81855a96c2e915897f",
      "d94008ca66ea471eb59125bb77bd9a45",
      "12299f8fddad426086ec0332d509805c",
      "ed75a4c586f44bd8835df3ab522e6477",
      "8937c9cdbac74423a9d990298794ebf8",
      "34e704e6471f4dd6bf102bb266bf1c91",
      "873f6b7f526743cf8a27ed00b2d91140",
      "0561b9351e9e4704be544e27fa02b27f",
      "631eda286c1c4ff0856ccdd8c52d365c",
      "0311e210a1e0475cbf7a515a0d56a060",
      "2454ebeeebac47d9a8372313eb1cda9b",
      "99a3170d52e14f5b8dcc2feea205a5b2",
      "065f358cd21749abaeb4661bc0c59348",
      "0500b351387b4cedb25a0db2ea682bc3",
      "bfc4d961770846f98b6ac90930839a52",
      "0799c7cc47d442e8bffcc247e544d66b",
      "5310d509de9248d18afe1ee82996acbd"
     ]
    },
    "id": "iigbg1pPZ3Vx",
    "outputId": "6b179374-b431-495c-e644-bbb838830136"
   },
   "outputs": [
    {
     "data": {
      "text/plain": [
       "DatasetDict({\n",
       "    train: Dataset({\n",
       "        features: ['input', 'preprocessed_output', 'summarized_input', 'summarized_output'],\n",
       "        num_rows: 89732\n",
       "    })\n",
       "    test: Dataset({\n",
       "        features: ['input', 'preprocessed_output', 'summarized_input', 'summarized_output'],\n",
       "        num_rows: 11217\n",
       "    })\n",
       "    validation: Dataset({\n",
       "        features: ['input', 'preprocessed_output', 'summarized_input', 'summarized_output'],\n",
       "        num_rows: 11216\n",
       "    })\n",
       "})"
      ]
     },
     "execution_count": 3,
     "metadata": {},
     "output_type": "execute_result"
    }
   ],
   "source": [
    "HMCDataset = load_dataset('hakeematyab/HealthCareMagicWithSummary-100k')\n",
    "HMCDataset = HMCDataset['train'].train_test_split(train_size=0.8,seed=seed)\n",
    "HMCDatasetTemp = HMCDataset['test'].train_test_split(train_size=0.5,seed=seed)\n",
    "HMCDataset['validation'] = HMCDatasetTemp.pop('train')\n",
    "HMCDataset['test']  = HMCDatasetTemp.pop('test')\n",
    "del HMCDatasetTemp\n",
    "HMCDataset"
   ]
  },
  {
   "cell_type": "code",
   "execution_count": null,
   "metadata": {},
   "outputs": [],
   "source": [
    "def add_ids(batch):\n",
    "    global start_id\n",
    "    end_id = start_id + len(batch['input'])\n",
    "    ids = [f'HCM-{i}' for i in range(start_id, end_id)]\n",
    "    start_id = end_id  # Update start_id to the new end_id\n",
    "    return {'ids': ids}\n",
    "start_id=0\n",
    "HMCDataset = HMCDataset.map(add_ids, batched=True)"
   ]
  },
  {
   "cell_type": "code",
   "execution_count": null,
   "metadata": {},
   "outputs": [],
   "source": [
    "start_id = 89733\n",
    "HMCDatasetVal = HMCDataset['validation'].map(add_ids, batched=True)"
   ]
  },
  {
   "cell_type": "code",
   "execution_count": 6,
   "metadata": {},
   "outputs": [
    {
     "data": {
      "text/plain": [
       "(['HCM-0', 'HCM-1', 'HCM-2', 'HCM-3', 'HCM-4'],\n",
       " ['HCM-89733', 'HCM-89734', 'HCM-89735', 'HCM-89736', 'HCM-89737'])"
      ]
     },
     "execution_count": 6,
     "metadata": {},
     "output_type": "execute_result"
    }
   ],
   "source": [
    "HMCDataset['train']['ids'][:5],HMCDatasetVal['ids'][:5]"
   ]
  },
  {
   "cell_type": "markdown",
   "metadata": {
    "id": "Xw8phbcMxjUV"
   },
   "source": [
    "#### MedAlpaca"
   ]
  },
  {
   "cell_type": "code",
   "execution_count": 7,
   "metadata": {
    "colab": {
     "base_uri": "https://localhost:8080/"
    },
    "id": "TtKf8ohfxZuI",
    "outputId": "8aca1708-eea6-4807-e68b-b0fb321c8f13"
   },
   "outputs": [
    {
     "data": {
      "text/plain": [
       "DatasetDict({\n",
       "    train: Dataset({\n",
       "        features: ['input', 'output', 'instruction'],\n",
       "        num_rows: 27164\n",
       "    })\n",
       "    test: Dataset({\n",
       "        features: ['input', 'output', 'instruction'],\n",
       "        num_rows: 3396\n",
       "    })\n",
       "    validation: Dataset({\n",
       "        features: ['input', 'output', 'instruction'],\n",
       "        num_rows: 3395\n",
       "    })\n",
       "})"
      ]
     },
     "execution_count": 7,
     "metadata": {},
     "output_type": "execute_result"
    }
   ],
   "source": [
    "MedAlpacaDataset = load_dataset('medalpaca/medical_meadow_medical_flashcards')\n",
    "MedAlpacaDataset = MedAlpacaDataset['train'].train_test_split(train_size=0.8,seed=seed)\n",
    "MedAlpacaDatasetTemp = MedAlpacaDataset['test'].train_test_split(train_size=0.5,seed=seed)\n",
    "MedAlpacaDataset['validation'] = MedAlpacaDatasetTemp['train']\n",
    "MedAlpacaDataset['test'] = MedAlpacaDatasetTemp['test']\n",
    "del MedAlpacaDatasetTemp\n",
    "MedAlpacaDataset"
   ]
  },
  {
   "cell_type": "code",
   "execution_count": 8,
   "metadata": {
    "colab": {
     "base_uri": "https://localhost:8080/"
    },
    "id": "fUEJTClUNuQB",
    "outputId": "1dec63a7-36c7-41b1-801c-e17d6cd2be6b"
   },
   "outputs": [
    {
     "data": {
      "text/plain": [
       "27164"
      ]
     },
     "execution_count": 8,
     "metadata": {},
     "output_type": "execute_result"
    }
   ],
   "source": [
    "len(MedAlpacaDataset['train'])"
   ]
  },
  {
   "cell_type": "code",
   "execution_count": 9,
   "metadata": {
    "colab": {
     "base_uri": "https://localhost:8080/",
     "height": 356,
     "referenced_widgets": [
      "c6d16274306e426c8f60d077e4c2fa3a",
      "3907ae4a5d664b589e76091a40ef4807",
      "2683d95137734f7facc736aace6db7ca",
      "007383ad9a434f09913c298b7b9f8b04",
      "6395f6142d2349e6b3928163f7332ad0",
      "d3496312c34c46b281ab354d7b05a660",
      "cbbd0d381ee840a6adb0e1ee7e0b8178",
      "798748f463264f4e98b27183fe0114e1",
      "33282c40471e41bf908c0359c6352615",
      "70c7ab49ddf44ca6890922dae87cd6b0",
      "d83ccf2654434f439f1f633ca1f9c15c",
      "0f1287e58698402ea0a9f88fa6aaa0ed",
      "30d2dd7fd71644768335cd92af4a8c0e",
      "4df6d57fd3d449dbb40c1ac5c1ce7881",
      "d1780aa6ebda4d7b95b1d4a55f4047cb",
      "b85864e1aacf49208decdac7f2b353bb",
      "647a683f9718479c8c7d77bd626c4dc6",
      "44220ca99baa46e19b3f9a386b9ced6d",
      "7e00d55bbc804efdb2583ca5d02289be",
      "50b2036f16e34b948dbc1335154c5fa9",
      "6caca7a915164ad28eb444ba511b3aba",
      "db7c2a3e6d734ad68fe74dc793a8a333",
      "76bdaecaf0714a95b942aa98227468d3",
      "366075b0998c4b6e91de95bbc2428f0f",
      "8ef146b93f054ff9814662c5adbd870b",
      "7aba63bb4ab6459cb996ab6b8c717e09",
      "35555a40b57542db97e12cdf4e231801",
      "55b7ba8056824113ab2794025c18a8ec",
      "35e706e881294373a317bf3070468b6d",
      "ccbff49a7fc24fd3bfd049508ec01980",
      "db83375540634d3fa3cc67a2de369847",
      "275b44d0fd774bc6b625723970f00022",
      "51ab5c98c0b34267820813f084281fdf"
     ]
    },
    "id": "Wq7LVlaKNhV2",
    "outputId": "84602fda-a65f-4cae-c332-aeba31c0d44d"
   },
   "outputs": [],
   "source": [
    "start_id = 0\n",
    "def add_ids(batch):\n",
    "    global start_id\n",
    "    end_id = start_id + len(batch['input'])\n",
    "    ids = [f'MedAlpaca-{i}' for i in range(start_id, end_id)]\n",
    "    start_id = end_id  # Update start_id to the new end_id\n",
    "    return {'ids': ids}\n",
    "\n",
    "MedAlpacaDataset = MedAlpacaDataset.map(add_ids, batched=True)"
   ]
  },
  {
   "cell_type": "code",
   "execution_count": 10,
   "metadata": {},
   "outputs": [],
   "source": [
    "start_id = 27165\n",
    "MedAlpacaDatasetVal = MedAlpacaDataset['validation'].map(add_ids, batched=True)"
   ]
  },
  {
   "cell_type": "code",
   "execution_count": 11,
   "metadata": {},
   "outputs": [
    {
     "data": {
      "text/plain": [
       "(['MedAlpaca-0', 'MedAlpaca-1', 'MedAlpaca-2', 'MedAlpaca-3', 'MedAlpaca-4'],\n",
       " ['MedAlpaca-27165',\n",
       "  'MedAlpaca-27166',\n",
       "  'MedAlpaca-27167',\n",
       "  'MedAlpaca-27168',\n",
       "  'MedAlpaca-27169'])"
      ]
     },
     "execution_count": 11,
     "metadata": {},
     "output_type": "execute_result"
    }
   ],
   "source": [
    "MedAlpacaDataset['train']['ids'][:5],MedAlpacaDatasetVal['ids'][:5]"
   ]
  },
  {
   "cell_type": "markdown",
   "metadata": {
    "id": "L4CLDs9Q5GkT"
   },
   "source": [
    "### Vectorizing Documents and Indexing to VectorDB"
   ]
  },
  {
   "cell_type": "code",
   "execution_count": 5,
   "metadata": {
    "id": "C2K7dhomGEec"
   },
   "outputs": [],
   "source": [
    "device = torch.device(\"cuda\" if torch.cuda.is_available() else \"cpu\")"
   ]
  },
  {
   "cell_type": "code",
   "execution_count": null,
   "metadata": {
    "colab": {
     "base_uri": "https://localhost:8080/",
     "height": 241,
     "referenced_widgets": [
      "209305a28eb943648e070c34ab4335a7",
      "498ac199cf54489eb08d14959c1f40c9",
      "d822612c22d14870aa9143eafca300cb",
      "52394ab397b044bc9781eab7c29f7faa",
      "abeb227cf4c84805b3661e404a814967",
      "845daa744bfd4c358d2a8681906427eb",
      "78127621773548fc9575a52b8124eb5c",
      "a0e8c65c8e324c809faf34f2846b3efc",
      "d297aec56877496fbfc4acf8a04d800a",
      "3b2af5f5db464fe39881dbf308ef1c13",
      "cb559150ccd24f8cba9d047ead7509b1",
      "3f1e9f15af89438797e99bd0cbe6a4f3",
      "06fd01e867574889aec6deef87a1e30f",
      "6c620662df9f4f36aa34d801bdae8a27",
      "28aa7bd6e82242138be17d197dcbe791",
      "6047745a723746a29a8d5ed30340b568",
      "f3ca13d513ce41e5a32c75c91d3da3bc",
      "aed7ea98fb2940e9920901c340068376",
      "d72e9bcf95834a69af1e55f184822458",
      "7f7776112ae7424ebfc23d90efe20749",
      "d4ab765248714b0f9e5a5a73d6d13bf0",
      "fcf9764859f0407bb162a5b3b30a096a",
      "a2f290a759f14e29a68dc21c203f4cb9",
      "78477dd45bb6467bb7faad40ac616053",
      "7d37676e59e94b6c96b50b392ba3a053",
      "ef1a7dfd19f84a3d84eeea929e7021ba",
      "12f3e4735d0940dbbf903b07f40454b6",
      "eb79352077194586808745e170bda827",
      "ccdd7511f1554ca2b243ef728bc102f2",
      "4ab61fa106074109bc5bf0d6cfc12c4d",
      "09560878a1e240f8ad7a456b1fa88f73",
      "7284ffaa80c94796bc9df8fe85fd813b",
      "880be3a1a4ee4f26a67b8356e5b3d2fe",
      "5c83e0228de1434cbe0c3c80339ea0e1",
      "4c39d4ed625a44c39c6464c64cbe21e4",
      "779fb1ef36f74de58fcdb764545399d6",
      "5f0ebe2935a146b6816b4d408ffec308",
      "2271c8608cfe4ebe8b0f7ad53822d809",
      "8760b12425624427bd7a4077ccf96558",
      "1ece3e0b0bbc4ff59b8c6d62495bb1bf",
      "82bae46ec03f4b7c9e5b3cd4d2f05cbf",
      "a3615c07d0744e22a4211dfcbf011c2b",
      "b263c690afc94ed69947caf49e9e289a",
      "12bed96d164b4e4e96669beac725f36c",
      "e3fa27bbe7c8492ba9065b627741771d",
      "e6403b86ca95480d82632fad028213b7",
      "a607ef4303a64fe7b7efe1f74c47b043",
      "7634276b29e3404b8265e360aa02b0e4",
      "553f4993500a48bebf4a8333e0893312",
      "00682e9d6ba44722b7beb2d0a95f45e1",
      "1d9c5ac6c9844cdfa6f753d6976c4c41",
      "b50adcec715f48e88059a222d7bf3bd1",
      "c6d5e705f24e4f148aa480c3dc3a76d2",
      "753c3b9eeef34149b6d8a4233fb22999",
      "20c78e57b26b43d28893a248ea070050",
      "ac7bcc124a8c4ecd8fad71918bea0406",
      "c2fe79f70f534ccc9396f0d5a4efa8b1",
      "e0b1d2f21cdf4a10bd8f5f86a6ec6f91",
      "34d29565ef8649b6baec3dfbf109d390",
      "fc4cc73afa474e9d88ab569f410ab18c",
      "be6b7e0a693c42ca96f1ad4e8d4e72b0",
      "94abd20530224a57a94c640be020a840",
      "1c6312798b194f2196e3379883c9307e",
      "8a1e87ea522d487ebe4e2a28773119a1",
      "94d762dc797d42b0bcd42ad68cf8f363",
      "223d563e5b4f491bbc996145c146e91b",
      "9f99a02fb98d462f94e606303c596575",
      "8efaa51b48534792a884bf245610d4ae",
      "9ade6c0df003475c9d10d0e193c5f995",
      "20525c7fb6694bac833f703ec82a5722",
      "fd8561ca108a4f069e04b7076f8baa00",
      "bb7d386c8bf741dca00d8f7e12d3e7a0",
      "ab0d264a5aae42e99ea835fd569e85b3",
      "c5560186020a4a578ee6ecfc1eb907c9",
      "0f80f215d54f4164830af8ebc09e8bc9",
      "dc2386eae08644cebee9c3bfe320ed0a",
      "e0a65145fec64164b6cf9b9bff56a98b"
     ]
    },
    "id": "FfakiN7J5Y35",
    "outputId": "6664b785-1103-4bc7-9bfa-d88ef0c16985"
   },
   "outputs": [],
   "source": [
    "# Load model from HuggingFace Hub\n",
    "tokenizer = AutoTokenizer.from_pretrained(\"neuml/pubmedbert-base-embeddings\")\n",
    "model = AutoModel.from_pretrained(\"neuml/pubmedbert-base-embeddings\")"
   ]
  },
  {
   "cell_type": "code",
   "execution_count": 7,
   "metadata": {
    "colab": {
     "base_uri": "https://localhost:8080/"
    },
    "id": "2x5PfXxSGGLk",
    "outputId": "ea964151-644c-43cb-9d3f-3d9185acfaf3"
   },
   "outputs": [
    {
     "data": {
      "text/plain": [
       "BertModel(\n",
       "  (embeddings): BertEmbeddings(\n",
       "    (word_embeddings): Embedding(30522, 768, padding_idx=0)\n",
       "    (position_embeddings): Embedding(512, 768)\n",
       "    (token_type_embeddings): Embedding(2, 768)\n",
       "    (LayerNorm): LayerNorm((768,), eps=1e-12, elementwise_affine=True)\n",
       "    (dropout): Dropout(p=0.1, inplace=False)\n",
       "  )\n",
       "  (encoder): BertEncoder(\n",
       "    (layer): ModuleList(\n",
       "      (0-11): 12 x BertLayer(\n",
       "        (attention): BertAttention(\n",
       "          (self): BertSdpaSelfAttention(\n",
       "            (query): Linear(in_features=768, out_features=768, bias=True)\n",
       "            (key): Linear(in_features=768, out_features=768, bias=True)\n",
       "            (value): Linear(in_features=768, out_features=768, bias=True)\n",
       "            (dropout): Dropout(p=0.1, inplace=False)\n",
       "          )\n",
       "          (output): BertSelfOutput(\n",
       "            (dense): Linear(in_features=768, out_features=768, bias=True)\n",
       "            (LayerNorm): LayerNorm((768,), eps=1e-12, elementwise_affine=True)\n",
       "            (dropout): Dropout(p=0.1, inplace=False)\n",
       "          )\n",
       "        )\n",
       "        (intermediate): BertIntermediate(\n",
       "          (dense): Linear(in_features=768, out_features=3072, bias=True)\n",
       "          (intermediate_act_fn): GELUActivation()\n",
       "        )\n",
       "        (output): BertOutput(\n",
       "          (dense): Linear(in_features=3072, out_features=768, bias=True)\n",
       "          (LayerNorm): LayerNorm((768,), eps=1e-12, elementwise_affine=True)\n",
       "          (dropout): Dropout(p=0.1, inplace=False)\n",
       "        )\n",
       "      )\n",
       "    )\n",
       "  )\n",
       "  (pooler): BertPooler(\n",
       "    (dense): Linear(in_features=768, out_features=768, bias=True)\n",
       "    (activation): Tanh()\n",
       "  )\n",
       ")"
      ]
     },
     "execution_count": 7,
     "metadata": {},
     "output_type": "execute_result"
    }
   ],
   "source": [
    "model.to(device)"
   ]
  },
  {
   "cell_type": "code",
   "execution_count": 8,
   "metadata": {
    "id": "sbR8SAVj0iKn"
   },
   "outputs": [],
   "source": [
    "# Mean Pooling - Take attention mask into account for correct averaging\n",
    "def meanpooling(output, mask):\n",
    "    embeddings = output[0] # First element of model_output contains all token embeddings\n",
    "    mask = mask.unsqueeze(-1).expand(embeddings.size()).float()\n",
    "    return torch.sum(embeddings * mask, 1) / torch.clamp(mask.sum(1), min=1e-9)\n",
    "\n",
    "def create_embeddings(text):\n",
    "    # Tokenize sentences\n",
    "    inputs = tokenizer(text, padding='max_length', truncation=True, max_length=512, return_tensors='pt').to(device)\n",
    "    # Compute token embeddings\n",
    "    with torch.no_grad():\n",
    "        output = model(**inputs)\n",
    "    # Perform pooling. In this case, mean pooling.\n",
    "    embeddings = meanpooling(output, inputs['attention_mask'])\n",
    "    return embeddings"
   ]
  },
  {
   "cell_type": "code",
   "execution_count": 16,
   "metadata": {
    "colab": {
     "base_uri": "https://localhost:8080/"
    },
    "id": "VlknrLv-50Hc",
    "outputId": "c4887b2d-fa44-4861-b2db-5b23998cdf8d"
   },
   "outputs": [
    {
     "data": {
      "text/plain": [
       "['What is the potential consequence of acute hypopituitarism caused by Pituitary apoplexy?\\nPituitary apoplexy may lead to cardiovascular collapse due to acute hypopituitarism causing decreased ACTH.',\n",
       " 'What type of motoneurons mediate the motor component of skeletal muscle reflexes?\\nThe motor component of skeletal muscle reflexes is mediated by lower motoneurons.',\n",
       " 'What are the histological features of Ménétrier disease?\\nMénétrier disease is characterized by hyperplasia of the gastric mucosa and atrophy of the parietal/chief cells.',\n",
       " \"What is the vector responsible for transmitting Rift Valley Fever, and how does it transmit the virus?\\nRift Valley Fever is a viral disease that is primarily transmitted via the Aedes mosquito vector. Mosquitoes become infected with the virus by feeding on infected animals, such as cattle, sheep, and camels. The virus then multiplies in the mosquito's body and can be transmitted to humans and other animals through mosquito bites. In addition to mosquito bites, Rift Valley Fever can also be transmitted through contact with infected animal tissues or fluids, such as blood, milk, or meat. This can occur during the slaughtering or handling of infected animals, or through consumption of contaminated animal products. Therefore, it is important to take precautions to prevent mosquito bites and avoid contact with infected animals to reduce the risk of contracting Rift Valley Fever.\",\n",
       " 'What is the cause of diffuse basement membrane thickening in diabetic microangiopathy?\\nThe diffuse basement membrane thickening in diabetic microangiopathy is caused by overproduction of type IV collagen by vascular fibroblasts.']"
      ]
     },
     "execution_count": 16,
     "metadata": {},
     "output_type": "execute_result"
    }
   ],
   "source": [
    "inputText = [MedAlpacaDataset['train'][i]['input']+'\\n'+ MedAlpacaDataset['train'][i]['output'] for i in range(5)]\n",
    "inputText"
   ]
  },
  {
   "cell_type": "code",
   "execution_count": 17,
   "metadata": {
    "colab": {
     "base_uri": "https://localhost:8080/"
    },
    "id": "Z8aeXl5LEqYF",
    "outputId": "3569908c-5cf5-40f9-caee-5ed11e8fb435"
   },
   "outputs": [
    {
     "data": {
      "text/plain": [
       "(tensor([[ 0.2752, -0.5027,  0.1954,  ...,  0.1117,  0.5115,  0.6854],\n",
       "         [ 0.0665,  0.3465,  0.3925,  ...,  0.5131, -0.6344,  0.5566],\n",
       "         [ 0.7244, -0.1561,  0.7682,  ..., -0.2008,  0.6889,  0.3719],\n",
       "         [ 0.4082,  0.7751,  0.0725,  ..., -0.2482, -1.5272, -0.6972],\n",
       "         [ 0.3154, -0.0864, -0.0266,  ..., -0.1454, -0.2869,  0.1163]],\n",
       "        device='cuda:0'),\n",
       " torch.Size([5, 768]))"
      ]
     },
     "execution_count": 17,
     "metadata": {},
     "output_type": "execute_result"
    }
   ],
   "source": [
    "emb = create_embeddings(inputText)\n",
    "dim = emb.shape\n",
    "emb, dim"
   ]
  },
  {
   "cell_type": "code",
   "execution_count": 9,
   "metadata": {
    "id": "pZT0fJcFHick"
   },
   "outputs": [],
   "source": [
    "# initialize connection to pinecone (get API key at app.pinecone.io)\n",
    "api_key = \"\"\n",
    "proxy_url = ''\n",
    "# configure client\n",
    "pc = Pinecone(api_key=api_key,proxy_url=proxy_url)\n",
    "dim = 768"
   ]
  },
  {
   "cell_type": "code",
   "execution_count": 10,
   "metadata": {
    "colab": {
     "base_uri": "https://localhost:8080/"
    },
    "id": "wkck-JhhFDlp",
    "outputId": "f7a767eb-222f-4ae2-a546-bac430e8ff8c"
   },
   "outputs": [],
   "source": [
    "spec = ServerlessSpec(\n",
    "    cloud=\"aws\", region=\"us-east-1\"\n",
    ")\n"
   ]
  },
  {
   "cell_type": "code",
   "execution_count": 11,
   "metadata": {},
   "outputs": [],
   "source": [
    "index_name = 'careconnect-knowledge-cosine'\n",
    "# index_name = 'careconnect-knowledge'\n",
    "existing_indexes = [\n",
    "    index_info[\"name\"] for index_info in pc.list_indexes()\n",
    "]\n"
   ]
  },
  {
   "cell_type": "code",
   "execution_count": 12,
   "metadata": {},
   "outputs": [
    {
     "data": {
      "text/plain": [
       "{'dimension': 768,\n",
       " 'index_fullness': 0.0,\n",
       " 'namespaces': {'': {'vector_count': 131507}},\n",
       " 'total_vector_count': 131507}"
      ]
     },
     "execution_count": 12,
     "metadata": {},
     "output_type": "execute_result"
    }
   ],
   "source": [
    "# check if index already exists (it shouldn't if this is first time)\n",
    "if index_name not in existing_indexes:\n",
    "    # if does not exist, create index\n",
    "    pc.create_index(\n",
    "        index_name,\n",
    "        dimension=dim,  # dimensionality of ada 002\n",
    "        metric='cosine',\n",
    "        spec=spec\n",
    "    )\n",
    "    # wait for index to be initialized\n",
    "    while not pc.describe_index(index_name).status['ready']:\n",
    "        time.sleep(1)\n",
    "\n",
    "# connect to index\n",
    "index = pc.Index(index_name)\n",
    "time.sleep(1)\n",
    "# view index stats\n",
    "index.describe_index_stats()"
   ]
  },
  {
   "cell_type": "code",
   "execution_count": 49,
   "metadata": {
    "id": "AWF4SzKfMITK"
   },
   "outputs": [],
   "source": [
    "def index_vector_embeddings(batch):\n",
    "    inputText = [input_text+'\\n'+ output for input_text,output in zip(batch['input'],batch['output'])]\n",
    "    embeds = create_embeddings(inputText)\n",
    "    metadata = [\n",
    "        {'question': input_text, 'answer': output} for input_text, output in zip(batch['input'], batch['output'])\n",
    "    ]\n",
    "    index.upsert(vectors=zip(batch['ids'],embeds,metadata))"
   ]
  },
  {
   "cell_type": "code",
   "execution_count": null,
   "metadata": {
    "colab": {
     "base_uri": "https://localhost:8080/",
     "height": 118,
     "referenced_widgets": [
      "f27293b1cc594862bc4b50ced94646c2",
      "533d43458cce4848994e721033945eb1",
      "562cfa42280e451dba2139cdcb03b086",
      "a912b874b83948248d89dcd0bf90c615",
      "9e87c54243f3433493bf5df3743491e6",
      "8518b27271e644f9a8d39aa2010f1d5d",
      "f2b20d125098482db693b7eee3828e61",
      "be69ad23971949119b40fba4a1273b12",
      "447893d5623a44e589ed225fee965a14",
      "a97222a1b1a44627a0b5374087944bb0",
      "4679dcab307e4d64972c96f13fa5fc01"
     ]
    },
    "id": "-ZU_GZAlIZyz",
    "outputId": "0c273370-6131-4702-cb6d-3cb16d9f0356"
   },
   "outputs": [],
   "source": [
    "batch_size = 256\n",
    "last_index = 0\n",
    "MedAlpacaDataset['train'].map(index_vector_embeddings,batched=True,batch_size=batch_size)"
   ]
  },
  {
   "cell_type": "code",
   "execution_count": 29,
   "metadata": {
    "colab": {
     "base_uri": "https://localhost:8080/"
    },
    "id": "8sS8J1UpL6xS",
    "outputId": "7d20e19e-0de2-42cc-d19c-fed25fce7fa0"
   },
   "outputs": [
    {
     "data": {
      "text/plain": [
       "{'dimension': 768,\n",
       " 'index_fullness': 0.0,\n",
       " 'namespaces': {'': {'vector_count': 131507}},\n",
       " 'total_vector_count': 131507}"
      ]
     },
     "execution_count": 29,
     "metadata": {},
     "output_type": "execute_result"
    }
   ],
   "source": [
    "index.describe_index_stats()"
   ]
  },
  {
   "cell_type": "markdown",
   "metadata": {},
   "source": [
    "### Creating RAG Evaluation Dataset"
   ]
  },
  {
   "cell_type": "code",
   "execution_count": 13,
   "metadata": {
    "id": "cFMckcSiL7QA"
   },
   "outputs": [],
   "source": [
    "def search(query,top_k=3,num_results=3):\n",
    "    emb = create_embeddings([query])[0].tolist()\n",
    "    result = index.query(vector=emb,top_k=top_k,k=num_results, include_metadata=True)\n",
    "    return result\n",
    "\n",
    "def parse_matches(matches,top_p=0.3):\n",
    "    contexts = []\n",
    "    scores = []\n",
    "    for eachMatch in matches:\n",
    "        answer = eachMatch['metadata']['answer']\n",
    "        score = eachMatch['score']\n",
    "        contexts.append(answer)\n",
    "        scores.append(score)\n",
    "    top_p_indices = filter_by_top_p(scores, top_p)\n",
    "    return [(contexts[index],scores[index]) for index in top_p_indices]\n",
    "\n",
    "def filter_by_top_p(scores, top_p):\n",
    "    indexed_scores = list(enumerate(scores))\n",
    "\n",
    "    sorted_indexed_scores = sorted(indexed_scores, key=lambda x: x[1], reverse=True)\n",
    "\n",
    "    sorted_scores = [score for index, score in sorted_indexed_scores]\n",
    "    sorted_indices = [index for index, score in sorted_indexed_scores]\n",
    "\n",
    "    cumulative_sum = np.cumsum(sorted_scores)\n",
    "\n",
    "    cumulative_probabilities = cumulative_sum / cumulative_sum[-1]\n",
    "\n",
    "    top_p_index = np.searchsorted(cumulative_probabilities, top_p) + 1\n",
    "\n",
    "    top_p_indices = sorted_indices[:top_p_index]\n",
    "\n",
    "    return top_p_indices\n"
   ]
  },
  {
   "cell_type": "code",
   "execution_count": 24,
   "metadata": {
    "colab": {
     "base_uri": "https://localhost:8080/"
    },
    "id": "lT4rIxVjRgJP",
    "outputId": "01b6d1f9-f593-44d0-ceaa-c46f86a2accd"
   },
   "outputs": [
    {
     "data": {
      "text/plain": [
       "('What happens in megaloblastic anemia when immature megaloblasts in the bone marrow rupture?',\n",
       " 'In megaloblastic anemia, immature megaloblasts in the bone marrow can rupture, releasing LDH and unconjugated bilirubin.')"
      ]
     },
     "execution_count": 24,
     "metadata": {},
     "output_type": "execute_result"
    }
   ],
   "source": [
    "query= MedAlpacaDataset['train'][9]['input']\n",
    "answer = MedAlpacaDataset['train'][9]['output']\n",
    "query, answer"
   ]
  },
  {
   "cell_type": "code",
   "execution_count": 26,
   "metadata": {},
   "outputs": [
    {
     "data": {
      "text/plain": [
       "{'id': 'MedAlpaca-15926',\n",
       " 'metadata': {'answer': 'No, the presence of hypersegmented neutrophils is not '\n",
       "                        'a common finding in non-megaloblastic macrocytic '\n",
       "                        'anemia.',\n",
       "              'question': 'Is the presence of hypersegmented neutrophils a '\n",
       "                          'common finding in non-megaloblastic macrocytic '\n",
       "                          'anemia?'},\n",
       " 'score': 117.957268,\n",
       " 'values': []}"
      ]
     },
     "execution_count": 26,
     "metadata": {},
     "output_type": "execute_result"
    }
   ],
   "source": [
    "search(query)['matches'][0]"
   ]
  },
  {
   "cell_type": "code",
   "execution_count": 34,
   "metadata": {
    "colab": {
     "base_uri": "https://localhost:8080/"
    },
    "id": "FtXtBMQwRNsn",
    "outputId": "6e63b9dd-3b3a-49d2-ebce-28fd709e5b9a"
   },
   "outputs": [
    {
     "name": "stdout",
     "output_type": "stream",
     "text": [
      "Matching Vectors\n",
      "======================================================================================================================================================\n",
      "Document: In megaloblastic anemia, immature megaloblasts in the bone marrow can rupture, releasing LDH and unconjugated bilirubin.\n",
      "Score:0.924022257\n",
      "------------------------------------------------------------------------------------------------------------------------------------------------------\n"
     ]
    }
   ],
   "source": [
    "matches = search(query)['matches']\n",
    "output = parse_matches(matches)\n",
    "print(f'Matching Vectors')\n",
    "print('='*150)\n",
    "for val in output:\n",
    "    text, score = val\n",
    "    print(f'Document: {text}\\nScore:{score}')\n",
    "    print('-'*150)"
   ]
  },
  {
   "cell_type": "code",
   "execution_count": 15,
   "metadata": {},
   "outputs": [],
   "source": [
    "evaluationDataset = []\n",
    "testSize = 100\n",
    "for i in range(testSize):\n",
    "    # data = HMCDataset['test'].shuffle(seed=42)[i]\n",
    "    data = icliniq.shuffle(seed=42)[i]\n",
    "    inputText = data['input']\n",
    "    outputText = data['answer_icliniq']\n",
    "    matches = search(inputText)['matches'][0]\n",
    "    retDoc = matches['metadata']\n",
    "    finData = {'question':inputText, 'answer':outputText, 'retrieved_question': retDoc['question'],'retrieved_answer': retDoc['answer'], 'scores':matches['score']}\n",
    "    evaluationDataset.append(finData)"
   ]
  },
  {
   "cell_type": "code",
   "execution_count": 18,
   "metadata": {},
   "outputs": [
    {
     "data": {
      "text/plain": [
       "Dataset({\n",
       "    features: ['question', 'answer', 'retrieved_question', 'retrieved_answer', 'scores'],\n",
       "    num_rows: 100\n",
       "})"
      ]
     },
     "execution_count": 18,
     "metadata": {},
     "output_type": "execute_result"
    }
   ],
   "source": [
    "evaluationData = Dataset.from_list(evaluationDataset)\n",
    "evaluationData"
   ]
  },
  {
   "cell_type": "code",
   "execution_count": 19,
   "metadata": {},
   "outputs": [
    {
     "data": {
      "text/plain": [
       "{'question': 'Hi doctor,I am suffering from irregular periods. I am currently taking medication Levothyroxine 50. My T3 is 0.87 ng/mL, T4 is 8.30 ug/dL, TSH is 2.43 uIU/mL. I am 34 years old, weigh 75 kg, and 5 feet tall. Please advice.',\n",
       " 'answer': 'Hi. From your query, I understand that you are suffering from hypothyroidism. I need to know when was it diagnosed, and what was the thyroid profile at that time. Irregular periods and weight gain is a part of hypothyroidism. I would like to modify your dose as well as advise you ways to reduce your weight. All will be well once we modify your dose.',\n",
       " 'retrieved_question': 'Sir suggests homoeo medicine for high tsh on 57-year-old woman.',\n",
       " 'retrieved_answer': 'If you are hypothyroid, you should seek medical attention and start taking thyroid replacement medication.',\n",
       " 'scores': 0.890752733}"
      ]
     },
     "execution_count": 19,
     "metadata": {},
     "output_type": "execute_result"
    }
   ],
   "source": [
    "evaluationData[0]"
   ]
  },
  {
   "cell_type": "code",
   "execution_count": null,
   "metadata": {},
   "outputs": [],
   "source": [
    "evaluationData.push_to_hub(f\"hakeematyab/icliniq-Cosine-Test-100\",commit_message='icliniq test data for RAG application.')"
   ]
  }
 ],
 "metadata": {
  "accelerator": "GPU",
  "colab": {
   "gpuType": "T4",
   "provenance": []
  },
  "kernelspec": {
   "display_name": "Python LLM-Finetuning",
   "language": "python",
   "name": "llm_finetuning"
  },
  "language_info": {
   "codemirror_mode": {
    "name": "ipython",
    "version": 3
   },
   "file_extension": ".py",
   "mimetype": "text/x-python",
   "name": "python",
   "nbconvert_exporter": "python",
   "pygments_lexer": "ipython3",
   "version": "3.9.19"
  },
  "widgets": {
   "application/vnd.jupyter.widget-state+json": {
    "state": {},
    "version_major": 2,
    "version_minor": 0
   }
  }
 },
 "nbformat": 4,
 "nbformat_minor": 4
}
